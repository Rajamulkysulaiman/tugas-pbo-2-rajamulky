{
  "nbformat": 4,
  "nbformat_minor": 0,
  "metadata": {
    "colab": {
      "provenance": [],
      "include_colab_link": true
    },
    "kernelspec": {
      "name": "python3",
      "display_name": "Python 3"
    },
    "language_info": {
      "name": "python"
    }
  },
  "cells": [
    {
      "cell_type": "markdown",
      "metadata": {
        "id": "view-in-github",
        "colab_type": "text"
      },
      "source": [
        "<a href=\"https://colab.research.google.com/github/Rajamulkysulaiman/tugas-pbo-2-rajamulky/blob/main/hitungpersegipanjang.ipynb\" target=\"_parent\"><img src=\"https://colab.research.google.com/assets/colab-badge.svg\" alt=\"Open In Colab\"/></a>"
      ]
    },
    {
      "cell_type": "code",
      "execution_count": null,
      "metadata": {
        "colab": {
          "base_uri": "https://localhost:8080/"
        },
        "id": "HcE36DW6d3-h",
        "outputId": "313f9a22-f3bc-40ac-df0c-d4ff0b857ac0"
      },
      "outputs": [
        {
          "output_type": "stream",
          "name": "stdout",
          "text": [
            "Keliling persegi panjang: 30\n"
          ]
        }
      ],
      "source": [
        "class HitungPersegiPanjang:\n",
        "    def __init__(self, p, l):\n",
        "        self.p = p\n",
        "        self.l = l\n",
        "\n",
        "obj = HitungPersegiPanjang(10, 5)\n",
        "keliling = 2 * (obj.p + obj.l)\n",
        "print(\"Keliling persegi panjang:\", keliling)\n"
      ]
    }
  ]
}