{
  "nbformat": 4,
  "nbformat_minor": 0,
  "metadata": {
    "colab": {
      "provenance": [],
      "include_colab_link": true
    },
    "kernelspec": {
      "name": "python3",
      "display_name": "Python 3"
    },
    "language_info": {
      "name": "python"
    }
  },
  "cells": [
    {
      "cell_type": "markdown",
      "metadata": {
        "id": "view-in-github",
        "colab_type": "text"
      },
      "source": [
        "<a href=\"https://colab.research.google.com/github/Rajamulkysulaiman/tugas-pbo-2-rajamulky/blob/main/hitungluaslingkaran.ipynb\" target=\"_parent\"><img src=\"https://colab.research.google.com/assets/colab-badge.svg\" alt=\"Open In Colab\"/></a>"
      ]
    },
    {
      "cell_type": "code",
      "execution_count": null,
      "metadata": {
        "colab": {
          "base_uri": "https://localhost:8080/"
        },
        "id": "ctzO7QzJHu35",
        "outputId": "537cdde2-0767-485f-cc65-70f2711135f8"
      },
      "outputs": [
        {
          "output_type": "stream",
          "name": "stdout",
          "text": [
            "Luas lingkaran: 153.86\n"
          ]
        }
      ],
      "source": [
        "class HitungLuasLingkaran:\n",
        "    def __init__(self, r):\n",
        "        self.r = r\n",
        "        self.phi = 3.14\n",
        "\n",
        "obj = HitungLuasLingkaran(7)\n",
        "luas = obj.phi * obj.r * obj.r\n",
        "print(\"Luas lingkaran:\", luas)\n",
        "\n"
      ]
    }
  ]
}