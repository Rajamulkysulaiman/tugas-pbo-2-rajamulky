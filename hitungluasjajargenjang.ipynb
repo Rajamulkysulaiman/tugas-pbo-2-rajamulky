{
  "nbformat": 4,
  "nbformat_minor": 0,
  "metadata": {
    "colab": {
      "provenance": [],
      "include_colab_link": true
    },
    "kernelspec": {
      "name": "python3",
      "display_name": "Python 3"
    },
    "language_info": {
      "name": "python"
    }
  },
  "cells": [
    {
      "cell_type": "markdown",
      "metadata": {
        "id": "view-in-github",
        "colab_type": "text"
      },
      "source": [
        "<a href=\"https://colab.research.google.com/github/Rajamulkysulaiman/tugas-pbo-2-rajamulky/blob/main/hitungluasjajargenjang.ipynb\" target=\"_parent\"><img src=\"https://colab.research.google.com/assets/colab-badge.svg\" alt=\"Open In Colab\"/></a>"
      ]
    },
    {
      "cell_type": "code",
      "execution_count": null,
      "metadata": {
        "colab": {
          "base_uri": "https://localhost:8080/"
        },
        "id": "ctzO7QzJHu35",
        "outputId": "b07a8ec0-1983-4654-a501-3fba3d6db4f8"
      },
      "outputs": [
        {
          "output_type": "stream",
          "name": "stdout",
          "text": [
            "Luas jajar genjang: 50\n"
          ]
        }
      ],
      "source": [
        "class HitungLuasJajarGenjang:\n",
        "    def __init__(self, a, t):\n",
        "        self.a = a\n",
        "        self.t = t\n",
        "\n",
        "obj = HitungLuasJajarGenjang(10, 5)\n",
        "luas = obj.a * obj.t\n",
        "print(\"Luas jajar genjang:\", luas)\n",
        "\n"
      ]
    }
  ]
}