{
  "nbformat": 4,
  "nbformat_minor": 0,
  "metadata": {
    "colab": {
      "name": "sesi3.ipynb",
      "provenance": [],
      "include_colab_link": true
    },
    "kernelspec": {
      "name": "python3",
      "display_name": "Python 3"
    }
  },
  "cells": [
    {
      "cell_type": "markdown",
      "metadata": {
        "id": "view-in-github",
        "colab_type": "text"
      },
      "source": [
        "<a href=\"https://colab.research.google.com/github/Rajamulkysulaiman/tugas-pbo-2-rajamulky/blob/main/sesi3.ipynb\" target=\"_parent\"><img src=\"https://colab.research.google.com/assets/colab-badge.svg\" alt=\"Open In Colab\"/></a>"
      ]
    },
    {
      "cell_type": "markdown",
      "metadata": {
        "id": "HdQHl1DnS307"
      },
      "source": [
        "**Contoh sederhana perulangan for**"
      ]
    },
    {
      "cell_type": "code",
      "metadata": {
        "id": "UBsWfjkUS1ea",
        "outputId": "c14c50d4-5398-407c-f11a-4e704daf609c",
        "colab": {
          "base_uri": "https://localhost:8080/"
        }
      },
      "source": [
        "# Deklarasi variabel contoh dan 10 itu sebagai tanda 10 kali perulangan\n",
        "contoh = 10\n",
        "\n",
        "# Variabel i berfungsi untuk menampung indeks,\n",
        "# dan fungsi range() berfungsi untuk membuat list dari 0-10.\n",
        "for i in range(contoh):\n",
        "    print (\"Perulangan ke-\" +str(i))"
      ],
      "execution_count": null,
      "outputs": [
        {
          "output_type": "stream",
          "name": "stdout",
          "text": [
            "Perulangan ke-0\n",
            "Perulangan ke-1\n",
            "Perulangan ke-2\n",
            "Perulangan ke-3\n",
            "Perulangan ke-4\n",
            "Perulangan ke-5\n",
            "Perulangan ke-6\n",
            "Perulangan ke-7\n",
            "Perulangan ke-8\n",
            "Perulangan ke-9\n"
          ]
        }
      ]
    },
    {
      "cell_type": "code",
      "metadata": {
        "id": "5S1oZePQXuI7",
        "outputId": "f6d96b7d-015b-490c-e8c7-5ddac2e27b4d",
        "colab": {
          "base_uri": "https://localhost:8080/"
        }
      },
      "source": [
        "# Menampilkan range dari kumpulan deret tertentu\n",
        "# range(5,10) akan membuat deret angka mulai dari 5, 6, 7, 8, dan 9.\n",
        "\n",
        "for i in range(5,10):\n",
        "  print(i)"
      ],
      "execution_count": null,
      "outputs": [
        {
          "output_type": "stream",
          "name": "stdout",
          "text": [
            "5\n",
            "6\n",
            "7\n",
            "8\n",
            "9\n"
          ]
        }
      ]
    },
    {
      "cell_type": "markdown",
      "metadata": {
        "id": "APu2517GUHmf"
      },
      "source": [
        "**Contoh menampilkan isi dalam body perulangan**"
      ]
    },
    {
      "cell_type": "code",
      "metadata": {
        "id": "XD8LlLIAUHMB",
        "outputId": "c34aea90-e267-43d8-bc19-4f474e9edd18",
        "colab": {
          "base_uri": "https://localhost:8080/"
        }
      },
      "source": [
        "# Deklarasi variabel contoh2 dengan tipe list\n",
        "contoh2 = ['saya','suka','minum','kopi', 'gayo']\n",
        "\n",
        "for isi in contoh2:\n",
        "    print (isi)"
      ],
      "execution_count": null,
      "outputs": [
        {
          "output_type": "stream",
          "name": "stdout",
          "text": [
            "saya\n",
            "suka\n",
            "minum\n",
            "kopi\n",
            "gayo\n"
          ]
        }
      ]
    },
    {
      "cell_type": "markdown",
      "metadata": {
        "id": "40KiZwfwU-yo"
      },
      "source": [
        "**Contoh menggunakan while**"
      ]
    },
    {
      "cell_type": "code",
      "metadata": {
        "id": "DuPUSTlcVD5a",
        "outputId": "caa33896-b4e9-4953-e52e-0faef0b39808",
        "colab": {
          "base_uri": "https://localhost:8080/"
        }
      },
      "source": [
        "# Deklarasi variabel hit\n",
        "hit = 0\n",
        "# Membuat kondisi\n",
        "while (hit < 5):\n",
        "    print(hit, \"kurang dari 5\")\n",
        "    hit = hit + 1\n",
        "else:\n",
        "# Menampilkan output salam jika kondisi sudah terpenuhi\n",
        "    print(\"Salammmm\")"
      ],
      "execution_count": null,
      "outputs": [
        {
          "output_type": "stream",
          "name": "stdout",
          "text": [
            "0 kurang dari 5\n",
            "1 kurang dari 5\n",
            "2 kurang dari 5\n",
            "3 kurang dari 5\n",
            "4 kurang dari 5\n",
            "Salammmm\n"
          ]
        }
      ]
    },
    {
      "cell_type": "markdown",
      "metadata": {
        "id": "f2KqONtGF5ll"
      },
      "source": [
        "**Program Menghitung Harga Tiket Masuk**"
      ]
    },
    {
      "cell_type": "code",
      "metadata": {
        "id": "JWRgH3jFDAxD",
        "outputId": "2fcca106-eb03-4702-cfa4-50947ce746b9",
        "colab": {
          "base_uri": "https://localhost:8080/"
        }
      },
      "source": [
        "# Program menghitung Faktor Persekutuan Terbesa\n",
        "\n",
        "# Membaca dua bilangan positif dari user\n",
        "n = int(input(\"Masukkan bilangan positif:\"))\n",
        "m = int(input(\"Masukkan bilangan positif:\"))\n",
        "\n",
        "# Inisialisasi variabel untuk nilai terkecil dari n dan m\n",
        "d = min(n, m)\n",
        "\n",
        "# Gunakan loop while untuk mencari FPT\n",
        "while n % d != 0 or m % d != 0:\n",
        "  d = d - 1\n",
        "\n",
        "# Menampilkan hasil\n",
        "print(\"Faktor persekutuan terbesar dari\", n, \"dan\", m, \" adalah\", d)"
      ],
      "execution_count": null,
      "outputs": [
        {
          "output_type": "stream",
          "name": "stdout",
          "text": [
            "Masukkan bilangan positif:4\n",
            "Masukkan bilangan positif:2\n",
            "Faktor persekutuan terbesar dari 4 dan 2  adalah 2\n"
          ]
        }
      ]
    },
    {
      "cell_type": "markdown",
      "metadata": {
        "id": "6ziy9uooNU1w"
      },
      "source": [
        "**Program Mencari Nilai Maksimum dari 100 bilangan bulat**"
      ]
    },
    {
      "cell_type": "code",
      "metadata": {
        "id": "VMV99NcTNUEu",
        "outputId": "f584be0f-724d-46f9-8d0e-427a3e97ab71",
        "colab": {
          "base_uri": "https://localhost:8080/"
        }
      },
      "source": [
        "# Menentukan nilai maksimum 100 bilangan bulat, menghitung berapa kali\n",
        "\n",
        "from random import randrange\n",
        "\n",
        "BIL_ITEMS = 100\n",
        "\n",
        "# Generate the first number and menampilkan nya\n",
        "maks_nilai = randrange(1, BIL_ITEMS + 1)\n",
        "print(maks_nilai)\n",
        "\n",
        "# Menghitung berapa kali perubahan\n",
        "bil_update = 0\n",
        "\n",
        "# Untuk setiap bilangan\n",
        "for i in range(1, BIL_ITEMS):\n",
        "  # Generate bilangan acak\n",
        "  current = randrange(1, BIL_ITEMS + 1)\n",
        "\n",
        "  # Kondisi jika ditemukan bilangan terbesar\n",
        "  if current > maks_nilai:\n",
        "    # Update nilai maksimum dan hitung perubahan\n",
        "    maks_nilai = current\n",
        "    bil_update = bil_update + 1\n",
        "    # Tampilkan bilangan jika masih ada proses update\n",
        "    print(current, \"<== Update\")\n",
        "  else:\n",
        "    #Tampilkan bilangan\n",
        "    print(current)\n",
        "\n",
        "# Tampilkan Hasil Terakhir\n",
        "print(\" Nilai maksimum yang ditemukan adalah\", maks_nilai)\n",
        "print(\"Nilai maksimum yang di-update\", bil_update, \"kali\")"
      ],
      "execution_count": null,
      "outputs": [
        {
          "output_type": "stream",
          "name": "stdout",
          "text": [
            "73\n",
            "38\n",
            "91 <== Update\n",
            "76\n",
            "70\n",
            "100 <== Update\n",
            "12\n",
            "54\n",
            "85\n",
            "55\n",
            "23\n",
            "18\n",
            "51\n",
            "9\n",
            "86\n",
            "74\n",
            "99\n",
            "38\n",
            "5\n",
            "49\n",
            "38\n",
            "80\n",
            "28\n",
            "52\n",
            "8\n",
            "70\n",
            "68\n",
            "37\n",
            "87\n",
            "14\n",
            "33\n",
            "6\n",
            "35\n",
            "40\n",
            "19\n",
            "32\n",
            "15\n",
            "92\n",
            "29\n",
            "95\n",
            "95\n",
            "43\n",
            "85\n",
            "98\n",
            "12\n",
            "100\n",
            "63\n",
            "93\n",
            "47\n",
            "80\n",
            "46\n",
            "56\n",
            "54\n",
            "71\n",
            "32\n",
            "57\n",
            "58\n",
            "24\n",
            "38\n",
            "35\n",
            "76\n",
            "65\n",
            "60\n",
            "34\n",
            "41\n",
            "85\n",
            "52\n",
            "27\n",
            "63\n",
            "79\n",
            "33\n",
            "66\n",
            "56\n",
            "6\n",
            "48\n",
            "42\n",
            "55\n",
            "93\n",
            "42\n",
            "71\n",
            "17\n",
            "47\n",
            "45\n",
            "40\n",
            "3\n",
            "100\n",
            "17\n",
            "31\n",
            "36\n",
            "36\n",
            "20\n",
            "73\n",
            "78\n",
            "81\n",
            "15\n",
            "17\n",
            "75\n",
            "51\n",
            "85\n",
            "20\n",
            " Nilai maksimum yang ditemukan adalah 100\n",
            "Nilai maksimum yang di-update 2 kali\n"
          ]
        }
      ]
    }
  ]
}