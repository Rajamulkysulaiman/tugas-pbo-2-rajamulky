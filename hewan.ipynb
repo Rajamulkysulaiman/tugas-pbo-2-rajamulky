{
  "nbformat": 4,
  "nbformat_minor": 0,
  "metadata": {
    "colab": {
      "provenance": [],
      "include_colab_link": true
    },
    "kernelspec": {
      "name": "python3",
      "display_name": "Python 3"
    },
    "language_info": {
      "name": "python"
    }
  },
  "cells": [
    {
      "cell_type": "markdown",
      "metadata": {
        "id": "view-in-github",
        "colab_type": "text"
      },
      "source": [
        "<a href=\"https://colab.research.google.com/github/Rajamulkysulaiman/tugas-pbo-2-rajamulky/blob/main/hewan.ipynb\" target=\"_parent\"><img src=\"https://colab.research.google.com/assets/colab-badge.svg\" alt=\"Open In Colab\"/></a>"
      ]
    },
    {
      "cell_type": "code",
      "execution_count": null,
      "metadata": {
        "colab": {
          "base_uri": "https://localhost:8080/"
        },
        "id": "ctzO7QzJHu35",
        "outputId": "f6bd9f30-a216-4bcd-8264-61f4a86ed594"
      },
      "outputs": [
        {
          "output_type": "stream",
          "name": "stdout",
          "text": [
            "Kucing adalah hewan jenis Mamalia\n"
          ]
        }
      ],
      "source": [
        "class Hewan:\n",
        "    def __init__(self, nama, jenis):\n",
        "        self.nama = nama\n",
        "        self.jenis = jenis\n",
        "\n",
        "    def deskripsi(self):\n",
        "        return f\"{self.nama} adalah hewan jenis {self.jenis}\"\n",
        "\n",
        "obj = Hewan(\"Kucing\", \"Mamalia\")\n",
        "print(obj.deskripsi())\n",
        "\n",
        "\n"
      ]
    }
  ]
}